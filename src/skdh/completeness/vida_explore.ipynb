{
 "cells": [
  {
   "cell_type": "code",
   "execution_count": 2,
   "metadata": {
    "collapsed": true,
    "pycharm": {
     "name": "#%%\n"
    }
   },
   "outputs": [],
   "source": [
    "import os\n",
    "import pandas as pd\n",
    "import numpy as np"
   ]
  },
  {
   "cell_type": "code",
   "execution_count": 13,
   "outputs": [],
   "source": [
    "# Check if missing_value_reason are the same\n",
    "fpath_part = '/Users/samuej20/Documents/pfirelab/vida/Test_data/Empatica/participant_data/'\n",
    "for fdir in os.listdir(fpath_part):\n",
    "    if not fdir == '.DS_Store':\n",
    "        for fdir2 in os.listdir(fpath_part + fdir):\n",
    "            if not fdir2 == '.DS_Store':\n",
    "                fpaths = os.listdir(fpath_part + fdir + '/' + fdir2 + '/digital_biomarkers/aggregated_per_minute/')\n",
    "                dfs = [pd.read_csv(fpath_part + fdir + '/' + fdir2 + '/digital_biomarkers/aggregated_per_minute/' + fpath) for fpath in fpaths]\n",
    "                df_wear = [pd.read_csv(fpath_part + fdir + '/' + fdir2 + '/digital_biomarkers/aggregated_per_minute/' + fpath) for fpath in fpaths if 'wearing-detection' in fpath][0]\n",
    "                if not np.array(np.where(np.isnan(df_wear['wearing_detection_percentage']))[0] == np.where(df_wear['missing_value_reason'] == 'device_not_recording')[0]).all():\n",
    "                    print(fdir)\n",
    "#                if np.array([len(df) != 1440 for df in dfs]).any():\n",
    "#                    print(fdir)\n",
    "\n",
    "#                if len(set([str(df['missing_value_reason']) for df in dfs])) > 1:\n",
    "#                    print(fdir)\n",
    "#                    print(len(set([str(df['missing_value_reason']) for df in dfs])))"
   ],
   "metadata": {
    "collapsed": false,
    "pycharm": {
     "name": "#%%\n"
    }
   }
  },
  {
   "cell_type": "code",
   "execution_count": 12,
   "outputs": [
    {
     "data": {
      "text/plain": "True"
     },
     "execution_count": 12,
     "metadata": {},
     "output_type": "execute_result"
    }
   ],
   "source": [
    "np.array(np.where(np.isnan(df_wear['wearing_detection_percentage']))[0] == np.where(df_wear['missing_value_reason'] == 'device_not_recording')[0]).all()"
   ],
   "metadata": {
    "collapsed": false,
    "pycharm": {
     "name": "#%%\n"
    }
   }
  },
  {
   "cell_type": "code",
   "execution_count": null,
   "outputs": [],
   "source": [],
   "metadata": {
    "collapsed": false,
    "pycharm": {
     "name": "#%%\n"
    }
   }
  }
 ],
 "metadata": {
  "kernelspec": {
   "display_name": "Python 3",
   "language": "python",
   "name": "python3"
  },
  "language_info": {
   "codemirror_mode": {
    "name": "ipython",
    "version": 2
   },
   "file_extension": ".py",
   "mimetype": "text/x-python",
   "name": "python",
   "nbconvert_exporter": "python",
   "pygments_lexer": "ipython2",
   "version": "2.7.6"
  }
 },
 "nbformat": 4,
 "nbformat_minor": 0
}